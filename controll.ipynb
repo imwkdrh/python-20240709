{
 "cells": [
  {
   "cell_type": "markdown",
   "metadata": {},
   "source": [
    "### 조건문\n",
    "##### if 문\n",
    "```python\n",
    "if 조건 논리표현식:\n",
    "    조건이 참일때 실행할 구문\n",
    "```"
   ]
  },
  {
   "cell_type": "code",
   "execution_count": 18,
   "metadata": {},
   "outputs": [],
   "source": [
    "number=1235"
   ]
  },
  {
   "cell_type": "code",
   "execution_count": 9,
   "metadata": {},
   "outputs": [],
   "source": [
    "if (number % 2==0):\n",
    "    print('짝수')\n",
    "    # 같은 코드 영역으로 지정하고자 한다면 들여쓰기를 모두 동일하게 지정\n",
    "    print('종료')"
   ]
  },
  {
   "cell_type": "markdown",
   "metadata": {},
   "source": [
    "##### else 문\n",
    "``` python\n",
    "if 조건 논리표현식:\n",
    "    조건이 참일 때 실행할 구문\n",
    "else:\n",
    "    조건이 거짓일 때 실행할 구문\n",
    "```"
   ]
  },
  {
   "cell_type": "code",
   "execution_count": 11,
   "metadata": {},
   "outputs": [
    {
     "name": "stdout",
     "output_type": "stream",
     "text": [
      "홀수\n"
     ]
    }
   ],
   "source": [
    "if(number % 2 ==0):\n",
    "    print('짝수')\n",
    "# else 작성 시 들여쓰기를 if문의 들여쓰기와 일치해야함\n",
    "else:\n",
    "    print('홀수')"
   ]
  },
  {
   "cell_type": "code",
   "execution_count": 16,
   "metadata": {},
   "outputs": [
    {
     "name": "stdout",
     "output_type": "stream",
     "text": [
      "2의 배수나 3의 배수가 아닙니다.\n"
     ]
    }
   ],
   "source": [
    "if(number%3==0):\n",
    "    print('3의 배수입니다.')\n",
    "else:\n",
    "    if(number % 2 == 0):\n",
    "        print('2의 배수입니다.')\n",
    "    else:\n",
    "        print('2의 배수나 3의 배수가 아닙니다.')"
   ]
  },
  {
   "cell_type": "markdown",
   "metadata": {},
   "source": [
    "##### elif 구문\n",
    "```python\n",
    "if 첫번째 조건 논리 표현식:\n",
    "    첫번째 조건이 참일 때 실행할 구문\n",
    "elif 두번째 조건 논리 표현식:\n",
    "    두번재 조건이 참일 때 실행할 구문\n",
    "else:\n",
    "    위의 모든 조건이 거짓일 때 실행할 구문\n",
    "```    "
   ]
  },
  {
   "cell_type": "code",
   "execution_count": 19,
   "metadata": {},
   "outputs": [
    {
     "name": "stdout",
     "output_type": "stream",
     "text": [
      "2의 배수도 3의 배수도 아닙니다.\n"
     ]
    }
   ],
   "source": [
    "if(number %3 ==0):\n",
    "    print('3의 배수입니다.')\n",
    "elif(number %2 ==0):\n",
    "    print('2의 배수입니다.')\n",
    "else:\n",
    "    print('2의 배수도 3의 배수도 아닙니다.')"
   ]
  },
  {
   "cell_type": "markdown",
   "metadata": {},
   "source": [
    "#### 죄수의 딜레마\n",
    "용의자 두명(A,B)이 체포됨,\n",
    "심문 중 자백 및 친묵을 권유받음\n",
    "1. 둘 중 하나만 자백을 하게되면 자백한 사람은 즉시 풀려나고 친묵한 사람은 10년형\n",
    "2. 둘 다 자백을 하면 모두 5년형\n",
    "3. 둘 다 침욱을 하면 모두 1년형\n",
    "이때 죄수의 선택을 나타내는 변수 XA, XB와 죄수의 복역 연수를 나타내는 YA, YB라 할 때 \n",
    "XA와 XB를 입력 받고 YA,YB를 'A의 복역 연수: 10, B의 복역 연수: 0' 형태로 출력하시오\n"
   ]
  },
  {
   "cell_type": "code",
   "execution_count": 28,
   "metadata": {},
   "outputs": [
    {
     "name": "stdout",
     "output_type": "stream",
     "text": [
      "X의 형량은 10년이고 Y의 형량은 0년이다\n"
     ]
    }
   ],
   "source": [
    "# 자백 : True, 침묵 : False\n",
    "XA = bool(input('A의 선택은?'))\n",
    "XB = bool(input('B의 선택은?'))\n",
    "\n",
    "(YA, YB) = (0,0)\n",
    "if(XA and XB):\n",
    "    (YA,YB) = (5,5)\n",
    "elif(XA and not XB):\n",
    "    (YA,YB) = (0,10)\n",
    "elif(XB and not XA):\n",
    "    (YA,YB) = (10,0)\n",
    "else:\n",
    "    (YA,YB) = (1,1)\n",
    "\n",
    "print(f'A의 형량은 {YA}년이고 B의 형량은 {YB}년이다')"
   ]
  },
  {
   "cell_type": "code",
   "execution_count": null,
   "metadata": {},
   "outputs": [],
   "source": []
  },
  {
   "cell_type": "code",
   "execution_count": null,
   "metadata": {},
   "outputs": [],
   "source": []
  },
  {
   "cell_type": "code",
   "execution_count": null,
   "metadata": {},
   "outputs": [],
   "source": []
  }
 ],
 "metadata": {
  "kernelspec": {
   "display_name": "Python 3",
   "language": "python",
   "name": "python3"
  },
  "language_info": {
   "codemirror_mode": {
    "name": "ipython",
    "version": 3
   },
   "file_extension": ".py",
   "mimetype": "text/x-python",
   "name": "python",
   "nbconvert_exporter": "python",
   "pygments_lexer": "ipython3",
   "version": "3.12.4"
  }
 },
 "nbformat": 4,
 "nbformat_minor": 2
}
