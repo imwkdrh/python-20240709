{
 "cells": [
  {
   "cell_type": "code",
   "execution_count": null,
   "metadata": {},
   "outputs": [],
   "source": []
  },
  {
   "cell_type": "markdown",
   "metadata": {},
   "source": [
    "문제 설명\n",
    "\n",
    "\n",
    "\n",
    "정수 배열 array와 2차원 정수 배열 queries이 주어진다. queries의 원소는 각각 하나의 query를 나타내며, [s, e] 형태다.\n",
    "\n",
    "각 query마다 순서대로 s ≤ i ≤ e인 모든 i에 대해 array[index]에 1을 더한다.\n",
    "\n",
    "위 규칙에 따라 queries를 처리한 이후의 array를 return 한다.\n",
    "\n",
    "메서드의 반환 타입은 정수의 배열이고 메서드명은 solution, 매개변수의 타입은 1차원 정수 배열 타입 array, 2차원 정수 배열 타입 queries 로 받으면서 접근 제어는 모든 패키지에서 사용할 수 있도록 하며 오버라이딩이 가능하고 구현부가 존재하는 인스턴스 메서드로 작성하시오.\n",
    " \n",
    "\n",
    "제한사항\n",
    "\n",
    " \n",
    "1 ≤ array의 길이 ≤ 1,000\n",
    "  - 0 ≤ arr의 원소 ≤ 1,000,000\n",
    " \n",
    "1 ≤ queries의 길이 ≤ 1,000\n",
    "  - 0 ≤ s ≤ e < arr의 길이\n",
    " \n",
    "\n",
    "입출력 예\n",
    "\n",
    " \n",
    "\n",
    "array: [0, 1, 2, 3, 4]\n",
    "\n",
    "queries: [[0, 1],[1, 2],[2, 3]]\n",
    "\n",
    "↓\n",
    "\n",
    "result: [1, 3, 4, 4, 4]\n",
    "\n",
    " \n",
    "\n",
    "입출력 예 설명\n",
    " \n",
    "\n",
    "index\tqueries[index]\tarray\n",
    "-\t-\t[0, 1, 2, 3, 4]\n",
    "0\t[0, 1]\t[1, 2, 2, 3, 4]\n",
    "1\t[1, 2]\t[1, 3, 3, 3, 4]\n",
    "2\t[2, 3]\t[1, 3, 4, 4, 4]\n",
    "따라서 [1, 3, 4, 4, 4]를 반환한다."
   ]
  },
  {
   "cell_type": "code",
   "execution_count": null,
   "metadata": {},
   "outputs": [],
   "source": [
    "def solution(array, queries):\n",
    "    for query in queries:\n",
    "        s, e = query\n",
    "        for i in range(s, e + 1):\n",
    "            array[i] += 1\n",
    "    return array\n",
    "\n",
    "# 예제 입력\n",
    "array = [0, 1, 2, 3, 4]\n",
    "queries = [[0, 1], [1, 2], [2, 3]]\n",
    "\n",
    "# 결과 계산\n",
    "result = solution(array, queries)\n",
    "\n",
    "# 결과 출력\n",
    "print(result)  # 예상 출력: [1, 3, 4, 4, 4]\n"
   ]
  },
  {
   "cell_type": "code",
   "execution_count": 15,
   "metadata": {},
   "outputs": [],
   "source": [
    "class Test3:\n",
    "    def solution(self, number: int): \n",
    "        sum = 0\n",
    "\n",
    "        if number < 0:\n",
    "            return 0\n",
    "\n",
    "        if -2000000000 <= number <= 2000000000:\n",
    "            while 0 < number:\n",
    "                sum += number % 10\n",
    "                number //= 10\n",
    "            return sum\n",
    "        print(\"제한사항 다시 입력해주세요\")\n",
    "        return 0\n",
    "\n",
    "\n",
    "\n"
   ]
  },
  {
   "cell_type": "code",
   "execution_count": 17,
   "metadata": {},
   "outputs": [
    {
     "name": "stdout",
     "output_type": "stream",
     "text": [
      "0\n"
     ]
    }
   ],
   "source": [
    "sol = Test3()\n",
    "print(sol.solution(2000000001))  \n"
   ]
  },
  {
   "cell_type": "code",
   "execution_count": 13,
   "metadata": {},
   "outputs": [
    {
     "name": "stdout",
     "output_type": "stream",
     "text": [
      "제한사항 다시 입력해주세요\n",
      "[0, 3, 4, 4, 4]\n"
     ]
    }
   ],
   "source": [
    "class Test2:\n",
    "    def solution(self, array, queries):\n",
    "        \n",
    "        if len(array) < 1 or len(array) > 1000 or len(queries) < 1 or len(queries) > 1000:\n",
    "            print(\"제한사항 다시 입력해주세요\")\n",
    "            \n",
    "\n",
    "        for num in array:\n",
    "            if num < 0 or 1000000 > num:\n",
    "                print(\"제한사항 다시 입력해주세요\")\n",
    "                \n",
    "\n",
    "        for query in queries:\n",
    "            s = query\n",
    "            e = query\n",
    "            if s < 0 or len(array) <= e or e < s:\n",
    "                print(\"제한사항 다시 입력해주세요\")\n",
    "                \n",
    "            for j in range(s, e + 1):\n",
    "                array[j] += 1\n",
    "\n",
    "        return array\n",
    "\n",
    "\n",
    "sol = Test2()\n",
    "array = [0, 1, 2, 3, 4]\n",
    "queries = [[0, 1], [1, 2], [2, 3]]\n",
    "\n",
    "\n",
    "result = sol.solution(array, queries)\n",
    "print(result)  \n",
    "\n"
   ]
  }
 ],
 "metadata": {
  "kernelspec": {
   "display_name": "Python 3",
   "language": "python",
   "name": "python3"
  },
  "language_info": {
   "codemirror_mode": {
    "name": "ipython",
    "version": 3
   },
   "file_extension": ".py",
   "mimetype": "text/x-python",
   "name": "python",
   "nbconvert_exporter": "python",
   "pygments_lexer": "ipython3",
   "version": "3.12.4"
  }
 },
 "nbformat": 4,
 "nbformat_minor": 2
}
